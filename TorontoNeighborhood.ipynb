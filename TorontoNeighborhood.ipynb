{
 "cells": [
  {
   "cell_type": "markdown",
   "metadata": {},
   "source": [
    "## Applied Data Science Capstone\n",
    "### Week 3: Segmenting and Clustering Neighborhoods in Toronto\n",
    "#### Section 1: Use the Notebook to build the code to scrape the following Wikipedia page, https://en.wikipedia.org/wiki/List_of_postal_codes_of_Canada:_M, in order to obtain the data that is in the table of postal codes and to transform the data into a pandas dataframe"
   ]
  },
  {
   "cell_type": "markdown",
   "metadata": {},
   "source": [
    "Import Required Libraries:"
   ]
  },
  {
   "cell_type": "code",
   "execution_count": 42,
   "metadata": {},
   "outputs": [],
   "source": [
    "import numpy as np\n",
    "import pandas as pd\n",
    "import requests\n",
    "from bs4 import BeautifulSoup\n",
    "import lxml"
   ]
  },
  {
   "cell_type": "markdown",
   "metadata": {},
   "source": [
    "Fetch the wikipedia page using requests"
   ]
  },
  {
   "cell_type": "code",
   "execution_count": 43,
   "metadata": {},
   "outputs": [],
   "source": [
    "page = requests.get(\"https://en.wikipedia.org/wiki/List_of_postal_codes_of_Canada:_M\")\n"
   ]
  },
  {
   "cell_type": "markdown",
   "metadata": {},
   "source": [
    "Extract the contents from the html page using BeautifulSoup HTML parser"
   ]
  },
  {
   "cell_type": "code",
   "execution_count": 44,
   "metadata": {},
   "outputs": [],
   "source": [
    "soup = BeautifulSoup(page.content,'html.parser')"
   ]
  },
  {
   "cell_type": "markdown",
   "metadata": {},
   "source": [
    "Find the first table containing a list of Postal Codes, Burroughs and Neighbourhoods"
   ]
  },
  {
   "cell_type": "code",
   "execution_count": 45,
   "metadata": {},
   "outputs": [],
   "source": [
    "table = soup.find_all('table')\n",
    "df = pd.read_html(str(table))[0]"
   ]
  },
  {
   "cell_type": "markdown",
   "metadata": {},
   "source": [
    "Only process the cells that have an assigned borough. Ignore cells with a borough that is Not assigned."
   ]
  },
  {
   "cell_type": "code",
   "execution_count": 46,
   "metadata": {},
   "outputs": [],
   "source": [
    "df_filt = df[df['Borough'] != 'Not assigned']"
   ]
  },
  {
   "cell_type": "markdown",
   "metadata": {},
   "source": [
    "If a cell has a borough but a Not assigned neighborhood, then the neighborhood will be the same as the borough."
   ]
  },
  {
   "cell_type": "code",
   "execution_count": 47,
   "metadata": {},
   "outputs": [
    {
     "data": {
      "text/html": [
       "<div>\n",
       "<style scoped>\n",
       "    .dataframe tbody tr th:only-of-type {\n",
       "        vertical-align: middle;\n",
       "    }\n",
       "\n",
       "    .dataframe tbody tr th {\n",
       "        vertical-align: top;\n",
       "    }\n",
       "\n",
       "    .dataframe thead th {\n",
       "        text-align: right;\n",
       "    }\n",
       "</style>\n",
       "<table border=\"1\" class=\"dataframe\">\n",
       "  <thead>\n",
       "    <tr style=\"text-align: right;\">\n",
       "      <th></th>\n",
       "      <th>Postal Code</th>\n",
       "      <th>Borough</th>\n",
       "      <th>Neighborhood</th>\n",
       "    </tr>\n",
       "  </thead>\n",
       "  <tbody>\n",
       "  </tbody>\n",
       "</table>\n",
       "</div>"
      ],
      "text/plain": [
       "Empty DataFrame\n",
       "Columns: [Postal Code, Borough, Neighborhood]\n",
       "Index: []"
      ]
     },
     "execution_count": 47,
     "metadata": {},
     "output_type": "execute_result"
    }
   ],
   "source": [
    "df_filt[df_filt['Neighborhood'] == 'Not assigned']"
   ]
  },
  {
   "cell_type": "markdown",
   "metadata": {},
   "source": [
    "More than one neighborhood can exist in one postal code area. That has already been taken care of in the wikipedia page and no multiple neighborhoods currently exist in the dataframe.\n",
    "Print unique neighorhoods and total number of data entries in the data frame to verify the same."
   ]
  },
  {
   "cell_type": "code",
   "execution_count": 48,
   "metadata": {},
   "outputs": [
    {
     "name": "stdout",
     "output_type": "stream",
     "text": [
      "103\n",
      "(103, 3)\n"
     ]
    }
   ],
   "source": [
    "print(df_filt['Postal Code'].nunique())\n",
    "print(df_filt.shape)"
   ]
  },
  {
   "cell_type": "markdown",
   "metadata": {},
   "source": [
    "#### Section 2: Get geographic co-ordinates of each neighborhood and add it to the dataframe"
   ]
  },
  {
   "cell_type": "markdown",
   "metadata": {},
   "source": [
    "Get coordinates for every Postal Code and append it to the dataframe. geocoder is not working reliably, hence get the csv file containing latitude and longitude cooridnates of every Postal Code"
   ]
  },
  {
   "cell_type": "code",
   "execution_count": 142,
   "metadata": {},
   "outputs": [
    {
     "name": "stdout",
     "output_type": "stream",
     "text": [
      "--2020-07-07 15:01:00--  http://geospatial_coordinates.csv/\n",
      "Resolving geospatial_coordinates.csv (geospatial_coordinates.csv)... failed: Name or service not known.\n",
      "wget: unable to resolve host address ‘geospatial_coordinates.csv’\n",
      "--2020-07-07 15:01:00--  http://cocl.us/Geospatial_data/Geospatial_Coordinates.csv\n",
      "Resolving cocl.us (cocl.us)... 119.81.168.76, 119.81.168.75, 161.202.50.39\n",
      "Connecting to cocl.us (cocl.us)|119.81.168.76|:80... connected.\n",
      "HTTP request sent, awaiting response... 301 Moved Permanently\n",
      "Location: https://cocl.us/Geospatial_data/Geospatial_Coordinates.csv [following]\n",
      "--2020-07-07 15:01:01--  https://cocl.us/Geospatial_data/Geospatial_Coordinates.csv\n",
      "Connecting to cocl.us (cocl.us)|119.81.168.76|:443... connected.\n",
      "HTTP request sent, awaiting response... 301 Moved Permanently\n",
      "Location: https://ibm.box.com/shared/static/9afzr83pps4pwf2smjjcf1y5mvgb18rr.csv [following]\n",
      "--2020-07-07 15:01:04--  https://ibm.box.com/shared/static/9afzr83pps4pwf2smjjcf1y5mvgb18rr.csv\n",
      "Resolving ibm.box.com (ibm.box.com)... 185.235.236.197\n",
      "Connecting to ibm.box.com (ibm.box.com)|185.235.236.197|:443... connected.\n",
      "HTTP request sent, awaiting response... 301 Moved Permanently\n",
      "Location: /public/static/9afzr83pps4pwf2smjjcf1y5mvgb18rr.csv [following]\n",
      "--2020-07-07 15:01:05--  https://ibm.box.com/public/static/9afzr83pps4pwf2smjjcf1y5mvgb18rr.csv\n",
      "Reusing existing connection to ibm.box.com:443.\n",
      "HTTP request sent, awaiting response... 301 Moved Permanently\n",
      "Location: https://ibm.ent.box.com/public/static/9afzr83pps4pwf2smjjcf1y5mvgb18rr.csv [following]\n",
      "--2020-07-07 15:01:05--  https://ibm.ent.box.com/public/static/9afzr83pps4pwf2smjjcf1y5mvgb18rr.csv\n",
      "Resolving ibm.ent.box.com (ibm.ent.box.com)... 185.235.236.201\n",
      "Connecting to ibm.ent.box.com (ibm.ent.box.com)|185.235.236.201|:443... connected.\n",
      "HTTP request sent, awaiting response... 302 Found\n",
      "Location: https://public.boxcloud.com/d/1/b1!nIdzrZCX3xW8dk9bKV6YCrsGvqSefwGBKm8gJlPgxicO2mziKfZpQwnH_O4VZIvLXqplYspEMXoIjdTcsvMwUnQdcwz4QSrMTVjxJR90ARpzp77uXuOuVFsSWdp2rJ6juYVAXDJ_D8GnTVig9zBH3M5ajhStOVwZJnv0AyfL1GIqk3MDYwUnRZBAGAxYqDoD062MTM49iSkDn5ue2BnVe08Z13-wLVs3yYDLG6YB_Gi8SEp2vbsorkmMYx4m9op1GJGiw8hGbQEaCTiGUteSfzaAwJBV8fS6BZqVA5XaVFaGTJPrKRml-2BiibjmCet68rpUXitWeZS-ZE85XR0Nxa2xVvZExBMbWi6VTwwrXvIwQnm009fEQboPpInIKdlr4XawXExs_D-Q3dHUJ3DCIbWaffvBWjobiH-t-gTKa4MR6DBXyUqSCzHpnh7z2U2WOt4EKQCg7tpmfACD5bMgzttKYXi2w_6cUqJTU9cx7VVFtjbZNc9EQuMyniJhVKsR6i8mcrnLyppvDuDhv6jmyl6xzskYl0NUG8yG3bUnMhiuJRMG030-JkWTM4txevn_KZC4rOleHJTC9pNdgP25R8DQS02gv41f8BZGVa2MG6xKV1i-6cqP3k2vWtebP38f3LCBWa59p-rh6LF2rtHbY_rBg7zdWJNmM0kThw3LhKI8bCvjz_yzLnDi0-Ld24IysIhK08qwkPN6bSqPL6A85zmNkWfyOKFLK9rqpv-oXEYjk96XphqWzekhAViifzmgoWSJIlo70PmfqZgbI9mhAj-H8kXlJ85efhkBUyTxFOgDr0baoQ53KZHb9WzpeFjxy-6y_zcr7hzZRlHhGqLh5DstGDZ2HjzfRQvdqSuysPDtgSseaLG6LpI3jiJnK8zYSifJBmqyktKYhCPucUOChYMpu7nGLSoNKQGiR1-tqUWI1I-hikNCWWRKadvXBDc2R7Vj2WXRTn1bcagRRPj6zMyWPT0Z41Kxy8Bm9DCWAv-gUuxRzeTNXaq90MGu-GZVyor1aQsVjVLGv-Kw1cv1aG3r44xDpnUt65aKkWqa-k9SWRxYkKgqcEzZfBlGhtLp0Nv6C8n4y8PqBFyRXj0GbAUTKQOtbFCCVRXHJgvtSADtscQ1sY_GbBZlY4ah2VE2se-Aqtr5B3CqDOL5QYHd7xNT2eILKQMsDmOx-cuuNaWm09eHqg68PkSNYsc0wHQY4tkrufwYfXjv2IxYTrI6aN6H_cRufwjDKCBnOvLtqbsGXC50kbfeL9lTcaHjpjerMxhpowzdn7PdLUkXAk6Nm98aPDsXVrI2UYVgxr8hH0JZHbuE3aYXh3O5qlz7LZGMruYbu1I_v930XVQH4Cpl4bE4uaAhV8WvlAGvh_s8OluC25lf9REQVNndqTCAjkK_r2rhyuNFHzw3thxl9xvhtj6kgoYqGTW_Z40Y-pj9BOswag../download [following]\n",
      "--2020-07-07 15:01:07--  https://public.boxcloud.com/d/1/b1!nIdzrZCX3xW8dk9bKV6YCrsGvqSefwGBKm8gJlPgxicO2mziKfZpQwnH_O4VZIvLXqplYspEMXoIjdTcsvMwUnQdcwz4QSrMTVjxJR90ARpzp77uXuOuVFsSWdp2rJ6juYVAXDJ_D8GnTVig9zBH3M5ajhStOVwZJnv0AyfL1GIqk3MDYwUnRZBAGAxYqDoD062MTM49iSkDn5ue2BnVe08Z13-wLVs3yYDLG6YB_Gi8SEp2vbsorkmMYx4m9op1GJGiw8hGbQEaCTiGUteSfzaAwJBV8fS6BZqVA5XaVFaGTJPrKRml-2BiibjmCet68rpUXitWeZS-ZE85XR0Nxa2xVvZExBMbWi6VTwwrXvIwQnm009fEQboPpInIKdlr4XawXExs_D-Q3dHUJ3DCIbWaffvBWjobiH-t-gTKa4MR6DBXyUqSCzHpnh7z2U2WOt4EKQCg7tpmfACD5bMgzttKYXi2w_6cUqJTU9cx7VVFtjbZNc9EQuMyniJhVKsR6i8mcrnLyppvDuDhv6jmyl6xzskYl0NUG8yG3bUnMhiuJRMG030-JkWTM4txevn_KZC4rOleHJTC9pNdgP25R8DQS02gv41f8BZGVa2MG6xKV1i-6cqP3k2vWtebP38f3LCBWa59p-rh6LF2rtHbY_rBg7zdWJNmM0kThw3LhKI8bCvjz_yzLnDi0-Ld24IysIhK08qwkPN6bSqPL6A85zmNkWfyOKFLK9rqpv-oXEYjk96XphqWzekhAViifzmgoWSJIlo70PmfqZgbI9mhAj-H8kXlJ85efhkBUyTxFOgDr0baoQ53KZHb9WzpeFjxy-6y_zcr7hzZRlHhGqLh5DstGDZ2HjzfRQvdqSuysPDtgSseaLG6LpI3jiJnK8zYSifJBmqyktKYhCPucUOChYMpu7nGLSoNKQGiR1-tqUWI1I-hikNCWWRKadvXBDc2R7Vj2WXRTn1bcagRRPj6zMyWPT0Z41Kxy8Bm9DCWAv-gUuxRzeTNXaq90MGu-GZVyor1aQsVjVLGv-Kw1cv1aG3r44xDpnUt65aKkWqa-k9SWRxYkKgqcEzZfBlGhtLp0Nv6C8n4y8PqBFyRXj0GbAUTKQOtbFCCVRXHJgvtSADtscQ1sY_GbBZlY4ah2VE2se-Aqtr5B3CqDOL5QYHd7xNT2eILKQMsDmOx-cuuNaWm09eHqg68PkSNYsc0wHQY4tkrufwYfXjv2IxYTrI6aN6H_cRufwjDKCBnOvLtqbsGXC50kbfeL9lTcaHjpjerMxhpowzdn7PdLUkXAk6Nm98aPDsXVrI2UYVgxr8hH0JZHbuE3aYXh3O5qlz7LZGMruYbu1I_v930XVQH4Cpl4bE4uaAhV8WvlAGvh_s8OluC25lf9REQVNndqTCAjkK_r2rhyuNFHzw3thxl9xvhtj6kgoYqGTW_Z40Y-pj9BOswag../download\n",
      "Resolving public.boxcloud.com (public.boxcloud.com)... 185.235.236.200\n",
      "Connecting to public.boxcloud.com (public.boxcloud.com)|185.235.236.200|:443... connected.\n",
      "HTTP request sent, awaiting response... 200 OK\n",
      "Length: 2891 (2.8K) [text/csv]\n",
      "Saving to: ‘Geospatial_Coordinates.csv.3’\n",
      "\n",
      "Geospatial_Coordina 100%[===================>]   2.82K  --.-KB/s    in 0s      \n",
      "\n",
      "2020-07-07 15:01:08 (147 MB/s) - ‘Geospatial_Coordinates.csv.3’ saved [2891/2891]\n",
      "\n",
      "FINISHED --2020-07-07 15:01:08--\n",
      "Total wall clock time: 7.9s\n",
      "Downloaded: 1 files, 2.8K in 0s (147 MB/s)\n"
     ]
    }
   ],
   "source": [
    " !wget Geospatial_Coordinates.csv http://cocl.us/Geospatial_data/Geospatial_Coordinates.csv"
   ]
  },
  {
   "cell_type": "markdown",
   "metadata": {},
   "source": [
    "Read the coordinates of every Postal code into df_coord dataframe"
   ]
  },
  {
   "cell_type": "code",
   "execution_count": 143,
   "metadata": {},
   "outputs": [
    {
     "data": {
      "text/html": [
       "<div>\n",
       "<style scoped>\n",
       "    .dataframe tbody tr th:only-of-type {\n",
       "        vertical-align: middle;\n",
       "    }\n",
       "\n",
       "    .dataframe tbody tr th {\n",
       "        vertical-align: top;\n",
       "    }\n",
       "\n",
       "    .dataframe thead th {\n",
       "        text-align: right;\n",
       "    }\n",
       "</style>\n",
       "<table border=\"1\" class=\"dataframe\">\n",
       "  <thead>\n",
       "    <tr style=\"text-align: right;\">\n",
       "      <th></th>\n",
       "      <th>Postal Code</th>\n",
       "      <th>Latitude</th>\n",
       "      <th>Longitude</th>\n",
       "    </tr>\n",
       "  </thead>\n",
       "  <tbody>\n",
       "    <tr>\n",
       "      <th>0</th>\n",
       "      <td>M1B</td>\n",
       "      <td>43.806686</td>\n",
       "      <td>-79.194353</td>\n",
       "    </tr>\n",
       "    <tr>\n",
       "      <th>1</th>\n",
       "      <td>M1C</td>\n",
       "      <td>43.784535</td>\n",
       "      <td>-79.160497</td>\n",
       "    </tr>\n",
       "    <tr>\n",
       "      <th>2</th>\n",
       "      <td>M1E</td>\n",
       "      <td>43.763573</td>\n",
       "      <td>-79.188711</td>\n",
       "    </tr>\n",
       "    <tr>\n",
       "      <th>3</th>\n",
       "      <td>M1G</td>\n",
       "      <td>43.770992</td>\n",
       "      <td>-79.216917</td>\n",
       "    </tr>\n",
       "    <tr>\n",
       "      <th>4</th>\n",
       "      <td>M1H</td>\n",
       "      <td>43.773136</td>\n",
       "      <td>-79.239476</td>\n",
       "    </tr>\n",
       "    <tr>\n",
       "      <th>5</th>\n",
       "      <td>M1J</td>\n",
       "      <td>43.744734</td>\n",
       "      <td>-79.239476</td>\n",
       "    </tr>\n",
       "    <tr>\n",
       "      <th>6</th>\n",
       "      <td>M1K</td>\n",
       "      <td>43.727929</td>\n",
       "      <td>-79.262029</td>\n",
       "    </tr>\n",
       "    <tr>\n",
       "      <th>7</th>\n",
       "      <td>M1L</td>\n",
       "      <td>43.711112</td>\n",
       "      <td>-79.284577</td>\n",
       "    </tr>\n",
       "    <tr>\n",
       "      <th>8</th>\n",
       "      <td>M1M</td>\n",
       "      <td>43.716316</td>\n",
       "      <td>-79.239476</td>\n",
       "    </tr>\n",
       "    <tr>\n",
       "      <th>9</th>\n",
       "      <td>M1N</td>\n",
       "      <td>43.692657</td>\n",
       "      <td>-79.264848</td>\n",
       "    </tr>\n",
       "  </tbody>\n",
       "</table>\n",
       "</div>"
      ],
      "text/plain": [
       "  Postal Code   Latitude  Longitude\n",
       "0         M1B  43.806686 -79.194353\n",
       "1         M1C  43.784535 -79.160497\n",
       "2         M1E  43.763573 -79.188711\n",
       "3         M1G  43.770992 -79.216917\n",
       "4         M1H  43.773136 -79.239476\n",
       "5         M1J  43.744734 -79.239476\n",
       "6         M1K  43.727929 -79.262029\n",
       "7         M1L  43.711112 -79.284577\n",
       "8         M1M  43.716316 -79.239476\n",
       "9         M1N  43.692657 -79.264848"
      ]
     },
     "execution_count": 143,
     "metadata": {},
     "output_type": "execute_result"
    }
   ],
   "source": [
    "df_coord = pd.read_csv('Geospatial_Coordinates.csv')\n",
    "df_coord.head(10)"
   ]
  },
  {
   "cell_type": "markdown",
   "metadata": {},
   "source": [
    "As we can see the the df_coord is sorted as per values of Postal Code. We need to sort df_filt to match with those of df_coord"
   ]
  },
  {
   "cell_type": "code",
   "execution_count": 144,
   "metadata": {},
   "outputs": [
    {
     "name": "stderr",
     "output_type": "stream",
     "text": [
      "/home/anand/anaconda3/envs/TFenv/lib/python3.6/site-packages/ipykernel_launcher.py:1: SettingWithCopyWarning: \n",
      "A value is trying to be set on a copy of a slice from a DataFrame\n",
      "\n",
      "See the caveats in the documentation: https://pandas.pydata.org/pandas-docs/stable/user_guide/indexing.html#returning-a-view-versus-a-copy\n",
      "  \"\"\"Entry point for launching an IPython kernel.\n"
     ]
    }
   ],
   "source": [
    "df_filt.sort_values('Postal Code', inplace=True)"
   ]
  },
  {
   "cell_type": "markdown",
   "metadata": {},
   "source": [
    "Reset Index of the df_filt table"
   ]
  },
  {
   "cell_type": "code",
   "execution_count": 147,
   "metadata": {},
   "outputs": [
    {
     "data": {
      "text/html": [
       "<div>\n",
       "<style scoped>\n",
       "    .dataframe tbody tr th:only-of-type {\n",
       "        vertical-align: middle;\n",
       "    }\n",
       "\n",
       "    .dataframe tbody tr th {\n",
       "        vertical-align: top;\n",
       "    }\n",
       "\n",
       "    .dataframe thead th {\n",
       "        text-align: right;\n",
       "    }\n",
       "</style>\n",
       "<table border=\"1\" class=\"dataframe\">\n",
       "  <thead>\n",
       "    <tr style=\"text-align: right;\">\n",
       "      <th></th>\n",
       "      <th>Postal Code</th>\n",
       "      <th>Borough</th>\n",
       "      <th>Neighborhood</th>\n",
       "    </tr>\n",
       "  </thead>\n",
       "  <tbody>\n",
       "    <tr>\n",
       "      <th>0</th>\n",
       "      <td>M1B</td>\n",
       "      <td>Scarborough</td>\n",
       "      <td>Malvern, Rouge</td>\n",
       "    </tr>\n",
       "    <tr>\n",
       "      <th>1</th>\n",
       "      <td>M1C</td>\n",
       "      <td>Scarborough</td>\n",
       "      <td>Rouge Hill, Port Union, Highland Creek</td>\n",
       "    </tr>\n",
       "    <tr>\n",
       "      <th>2</th>\n",
       "      <td>M1E</td>\n",
       "      <td>Scarborough</td>\n",
       "      <td>Guildwood, Morningside, West Hill</td>\n",
       "    </tr>\n",
       "    <tr>\n",
       "      <th>3</th>\n",
       "      <td>M1G</td>\n",
       "      <td>Scarborough</td>\n",
       "      <td>Woburn</td>\n",
       "    </tr>\n",
       "    <tr>\n",
       "      <th>4</th>\n",
       "      <td>M1H</td>\n",
       "      <td>Scarborough</td>\n",
       "      <td>Cedarbrae</td>\n",
       "    </tr>\n",
       "    <tr>\n",
       "      <th>...</th>\n",
       "      <td>...</td>\n",
       "      <td>...</td>\n",
       "      <td>...</td>\n",
       "    </tr>\n",
       "    <tr>\n",
       "      <th>98</th>\n",
       "      <td>M9N</td>\n",
       "      <td>York</td>\n",
       "      <td>Weston</td>\n",
       "    </tr>\n",
       "    <tr>\n",
       "      <th>99</th>\n",
       "      <td>M9P</td>\n",
       "      <td>Etobicoke</td>\n",
       "      <td>Westmount</td>\n",
       "    </tr>\n",
       "    <tr>\n",
       "      <th>100</th>\n",
       "      <td>M9R</td>\n",
       "      <td>Etobicoke</td>\n",
       "      <td>Kingsview Village, St. Phillips, Martin Grove ...</td>\n",
       "    </tr>\n",
       "    <tr>\n",
       "      <th>101</th>\n",
       "      <td>M9V</td>\n",
       "      <td>Etobicoke</td>\n",
       "      <td>South Steeles, Silverstone, Humbergate, Jamest...</td>\n",
       "    </tr>\n",
       "    <tr>\n",
       "      <th>102</th>\n",
       "      <td>M9W</td>\n",
       "      <td>Etobicoke</td>\n",
       "      <td>Northwest, West Humber - Clairville</td>\n",
       "    </tr>\n",
       "  </tbody>\n",
       "</table>\n",
       "<p>103 rows × 3 columns</p>\n",
       "</div>"
      ],
      "text/plain": [
       "    Postal Code      Borough  \\\n",
       "0           M1B  Scarborough   \n",
       "1           M1C  Scarborough   \n",
       "2           M1E  Scarborough   \n",
       "3           M1G  Scarborough   \n",
       "4           M1H  Scarborough   \n",
       "..          ...          ...   \n",
       "98          M9N         York   \n",
       "99          M9P    Etobicoke   \n",
       "100         M9R    Etobicoke   \n",
       "101         M9V    Etobicoke   \n",
       "102         M9W    Etobicoke   \n",
       "\n",
       "                                          Neighborhood  \n",
       "0                                       Malvern, Rouge  \n",
       "1               Rouge Hill, Port Union, Highland Creek  \n",
       "2                    Guildwood, Morningside, West Hill  \n",
       "3                                               Woburn  \n",
       "4                                            Cedarbrae  \n",
       "..                                                 ...  \n",
       "98                                              Weston  \n",
       "99                                           Westmount  \n",
       "100  Kingsview Village, St. Phillips, Martin Grove ...  \n",
       "101  South Steeles, Silverstone, Humbergate, Jamest...  \n",
       "102                Northwest, West Humber - Clairville  \n",
       "\n",
       "[103 rows x 3 columns]"
      ]
     },
     "execution_count": 147,
     "metadata": {},
     "output_type": "execute_result"
    }
   ],
   "source": [
    "df_filt.reset_index(drop=True, inplace=True)\n",
    "df_filt"
   ]
  },
  {
   "cell_type": "markdown",
   "metadata": {},
   "source": [
    "Merge both the frames (dffilt and df_coord)"
   ]
  },
  {
   "cell_type": "code",
   "execution_count": 148,
   "metadata": {},
   "outputs": [],
   "source": [
    "frames = [df_filt, df_coord]\n",
    "neighbors = pd.merge(df_filt, df_coord, on='Postal Code')"
   ]
  },
  {
   "cell_type": "code",
   "execution_count": 150,
   "metadata": {},
   "outputs": [
    {
     "data": {
      "text/html": [
       "<div>\n",
       "<style scoped>\n",
       "    .dataframe tbody tr th:only-of-type {\n",
       "        vertical-align: middle;\n",
       "    }\n",
       "\n",
       "    .dataframe tbody tr th {\n",
       "        vertical-align: top;\n",
       "    }\n",
       "\n",
       "    .dataframe thead th {\n",
       "        text-align: right;\n",
       "    }\n",
       "</style>\n",
       "<table border=\"1\" class=\"dataframe\">\n",
       "  <thead>\n",
       "    <tr style=\"text-align: right;\">\n",
       "      <th></th>\n",
       "      <th>Postal Code</th>\n",
       "      <th>Borough</th>\n",
       "      <th>Neighborhood</th>\n",
       "      <th>Latitude</th>\n",
       "      <th>Longitude</th>\n",
       "    </tr>\n",
       "  </thead>\n",
       "  <tbody>\n",
       "    <tr>\n",
       "      <th>0</th>\n",
       "      <td>M1B</td>\n",
       "      <td>Scarborough</td>\n",
       "      <td>Malvern, Rouge</td>\n",
       "      <td>43.806686</td>\n",
       "      <td>-79.194353</td>\n",
       "    </tr>\n",
       "    <tr>\n",
       "      <th>1</th>\n",
       "      <td>M1C</td>\n",
       "      <td>Scarborough</td>\n",
       "      <td>Rouge Hill, Port Union, Highland Creek</td>\n",
       "      <td>43.784535</td>\n",
       "      <td>-79.160497</td>\n",
       "    </tr>\n",
       "    <tr>\n",
       "      <th>2</th>\n",
       "      <td>M1E</td>\n",
       "      <td>Scarborough</td>\n",
       "      <td>Guildwood, Morningside, West Hill</td>\n",
       "      <td>43.763573</td>\n",
       "      <td>-79.188711</td>\n",
       "    </tr>\n",
       "    <tr>\n",
       "      <th>3</th>\n",
       "      <td>M1G</td>\n",
       "      <td>Scarborough</td>\n",
       "      <td>Woburn</td>\n",
       "      <td>43.770992</td>\n",
       "      <td>-79.216917</td>\n",
       "    </tr>\n",
       "    <tr>\n",
       "      <th>4</th>\n",
       "      <td>M1H</td>\n",
       "      <td>Scarborough</td>\n",
       "      <td>Cedarbrae</td>\n",
       "      <td>43.773136</td>\n",
       "      <td>-79.239476</td>\n",
       "    </tr>\n",
       "  </tbody>\n",
       "</table>\n",
       "</div>"
      ],
      "text/plain": [
       "  Postal Code      Borough                            Neighborhood   Latitude  \\\n",
       "0         M1B  Scarborough                          Malvern, Rouge  43.806686   \n",
       "1         M1C  Scarborough  Rouge Hill, Port Union, Highland Creek  43.784535   \n",
       "2         M1E  Scarborough       Guildwood, Morningside, West Hill  43.763573   \n",
       "3         M1G  Scarborough                                  Woburn  43.770992   \n",
       "4         M1H  Scarborough                               Cedarbrae  43.773136   \n",
       "\n",
       "   Longitude  \n",
       "0 -79.194353  \n",
       "1 -79.160497  \n",
       "2 -79.188711  \n",
       "3 -79.216917  \n",
       "4 -79.239476  "
      ]
     },
     "execution_count": 150,
     "metadata": {},
     "output_type": "execute_result"
    }
   ],
   "source": [
    "neighbors.head()"
   ]
  },
  {
   "cell_type": "code",
   "execution_count": null,
   "metadata": {},
   "outputs": [],
   "source": []
  }
 ],
 "metadata": {
  "kernelspec": {
   "display_name": "TFenv",
   "language": "python",
   "name": "tfenv"
  },
  "language_info": {
   "codemirror_mode": {
    "name": "ipython",
    "version": 3
   },
   "file_extension": ".py",
   "mimetype": "text/x-python",
   "name": "python",
   "nbconvert_exporter": "python",
   "pygments_lexer": "ipython3",
   "version": "3.6.10"
  }
 },
 "nbformat": 4,
 "nbformat_minor": 4
}
